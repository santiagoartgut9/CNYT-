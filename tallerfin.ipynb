{
  "metadata": {
    "kernelspec": {
      "name": "python",
      "display_name": "Python (Pyodide)",
      "language": "python"
    },
    "language_info": {
      "codemirror_mode": {
        "name": "python",
        "version": 3
      },
      "file_extension": ".py",
      "mimetype": "text/x-python",
      "name": "python",
      "nbconvert_exporter": "python",
      "pygments_lexer": "ipython3",
      "version": "3.8"
    }
  },
  "nbformat_minor": 4,
  "nbformat": 4,
  "cells": [
    {
      "cell_type": "markdown",
      "source": "# TEORÍA CUÁNTICA BÁSICA, OBSERVABLES Y MEDIDAS",
      "metadata": {}
    },
    {
      "cell_type": "markdown",
      "source": "#### 🏫 <ins>  Escuela Colombiana de Ingeniería Julio Garavito </ins>",
      "metadata": {}
    },
    {
      "cell_type": "markdown",
      "source": "> ## De: Santiago Andres Arteaga Gutierrez ",
      "metadata": {}
    },
    {
      "cell_type": "markdown",
      "source": "> ### Para: LUIS DANIEL BENAVIDES NAVARRO\n",
      "metadata": {}
    },
    {
      "cell_type": "markdown",
      "source": "# 📕 SUBA SEMANALMENTE SUS AVANCES A GIT\n\n>SIMULE EL PRIMER SISTEMA CUÁNTICO DESCRITO EN LA SECCIÓN 4.1.\nEl sistema consiste en una partícula confinada a un conjunto discreto de posiciones en una línea. El simulador debe permitir especificar el número de posiciones y un vector ket de estado asignando las amplitudes.\n\n1. El sistema debe calcular la probabilidad de encontrarlo en una posición en particular.\n",
      "metadata": {}
    },
    {
      "cell_type": "markdown",
      "source": "#### Solución: \n",
      "metadata": {}
    },
    {
      "cell_type": "code",
      "source": "def calcularprobabilidadPosparticula (s,p):\n    norma = 0\n    for i in range (len(s)):        \n        n = abs(s[i])**2\n        norma += n\n    c = p*p                         \n    return c/norma\n\n",
      "metadata": {
        "trusted": true
      },
      "outputs": [],
      "execution_count": 8
    },
    {
      "cell_type": "markdown",
      "source": "\n2. El sistema si se le da otro vector Ket debe buscar la probabilidad de transitar del primer vector al segundo.",
      "metadata": {}
    },
    {
      "cell_type": "markdown",
      "source": "#### Solución:",
      "metadata": {}
    },
    {
      "cell_type": "code",
      "source": "def prob_ket(v1,v2):\n\n    pro_int = np.inner(v1,v2)  #saca el producto interno de los dos vectores\n    norma1 = 0\n    norma2= 0\n    for i in range(len(v1)):    #norma del primer vector\n        n = abs(v1[i])\n        norma1 += n\n    for i in range(len(v2)):   #norma del segundo vector\n        n = abs(v2[i])\n        norma2 += n\n    normas = norma1*norma2      #producto de las 2 normas\n    return pro_int/normas       #resultado",
      "metadata": {
        "trusted": true
      },
      "outputs": [],
      "execution_count": null
    },
    {
      "cell_type": "markdown",
      "source": "## 🧪 COMPLETE LOS RETOS DE PROGRAMACIÓN DEL CAPÍTULO 4.\n> 1. Amplitud de transición. El sistema puede recibir dos vectores y calcular la probabilidad de transitar de el uno al otro después de hacer la observación:\n\n",
      "metadata": {}
    },
    {
      "cell_type": "markdown",
      "source": "## Solución:\n",
      "metadata": {}
    },
    {
      "cell_type": "code",
      "source": "#Amplitud de transición\ndef amplitudetransicion(j, k):\n    #Normalizar los dos vectores \n    x1=((j[0][0]**2)+((j[0][1]**2)))\n    nuevaa = (cmath.sqrt(x1))\n    na=(str(nuevaa).replace(\"(\",\"\").replace(\")\",\"\").replace(\"+0j\",\"\"))\n    a=float(na)\n    x2=((j[1][0]**2)+((j[1][1]**2)))\n    nuevab = (cmath.sqrt(x2))\n    nb=(str(nuevab).replace(\"(\",\"\").replace(\")\",\"\").replace(\"+0j\",\"\"))\n    b=float(nb)\n    x3=((j[2][0]**2)+((j[2][1]**2)))\n    nuevac = (cmath.sqrt(x3))\n    nc=(str(nuevac).replace(\"(\",\"\").replace(\")\",\"\").replace(\"+0j\",\"\"))\n    c=float(nc)\n    y1=((k[0][0]**2)+((k[0][1]**2)))\n    nuevad = (cmath.sqrt(y1))\n    nd=(str(nuevad).replace(\"(\",\"\").replace(\")\",\"\").replace(\"+0j\",\"\"))\n    d=float(nd)\n    y2=((k[1][0]**2)+((k[1][1]**2)))\n    nuevae = (cmath.sqrt(y2))\n    ne=(str(nuevae).replace(\"(\",\"\").replace(\")\",\"\").replace(\"+0j\",\"\"))\n    e=float(ne)\n    y3=((j[2][0]**2)+((j[2][1]**2)))\n    nuevaf = (cmath.sqrt(y3))\n    nf=(str(nuevaf).replace(\"(\",\"\").replace(\")\",\"\").replace(\"+0j\",\"\"))\n    f=float(nf)\n    \n    print ()\n    print (\"La normalizada del primer vector es: \",nuevaa,nuevab,nuevac)\n    print (\"La normalizada del segundo vector es: \",nuevad,nuevae,nuevaf)\n    \n    #Para el segundo vector su adjunta y transpuesta\n    vector1=([(a),((-1)*0)],[(b),((-1)*0)],[(c),((-1)*0)])\n    vector2=([(d),((-1)*0)],[(e),((-1)*0)],[(f),((-1)*0)])\n    print (\"Su vector normalizado es: \", vector1) \n    print (\"Su vector normalizado es: \", vector2)\n    v1=np.array([a,b,c])\n    v2=np.array([d,e,f])\n    amplitud=(numpy.dot(v1,v2)*0.002)\n    return (amplitud)\n",
      "metadata": {
        "trusted": true
      },
      "outputs": [],
      "execution_count": 1
    },
    {
      "cell_type": "markdown",
      "source": " > 2. Ahora con una matriz que describa un observable y un vector ket, el sistema revisa que la matriz sea hermitiana, y si lo es, calcula la media y la varianza del observable en el estado dado.\n",
      "metadata": {}
    },
    {
      "cell_type": "code",
      "source": "#Calcular la media y varianza de un observable dado\ndef mediayvarianza(Ω1):\n    #Comprobar si es hermitiana \n    transpuesta=([(Ω1[0][0]),(Ω1[1][0]),(Ω1[2][0])],[(Ω1[0][1]),(Ω1[1][1]),(Ω1[2][1])],[(Ω1[0][2]),(Ω1[1][2]),(Ω1[2][2])])\n    conjugada= np.matrix(transpuesta) \n    nueva = np.conj(conjugada) \n    if Ω1[0][1]==Ω1[1][0] and Ω1[0][2]==Ω1[2][0] and Ω1[1][2]==Ω1[2][1]:\n        n = True\n    else: \n        n = False\n    if n==True:\n        estado= ([[0+1j, 1+0j, 0+1j], [0+1j, 1+0j, 0+1j],[0+1j, 1+0j, 0+1j]]) \n        media=(numpy.dot(Ω1,estado))\n        print ()\n        print ()\n        print (\"Su media es: \",media)\n        a=(numpy.dot(Ω1,estado))\n        b=(numpy.dot(estado,Ω1))\n        delta=a-b\n        print ()\n        print (\"Su Δψ(Ω) es: \",delta)\n        varianza= (delta**2)\n        print ()\n        print (\"Su varianza es: \", varianza)\n    else: \n        print (\"La matriz no es hermitiana.\")\n    return (n)",
      "metadata": {
        "trusted": true
      },
      "outputs": [],
      "execution_count": null
    },
    {
      "cell_type": "markdown",
      "source": "> 3. El sistema calcula los valores propios del observable y la probabilidad de que el sistema transite a alguno de los vectores propios después de la observación.\n",
      "metadata": {}
    },
    {
      "cell_type": "code",
      "source": "def valorespropios(Ω):\n    #valorpropio (Ω)\n    w=np.linalg.eigvals(Ω)\n    #Probabilidad de que el sistema transite a alguno de los vectores propios despúes de la observación \n    probabilidadvectopropios= (np.array(w)*Ω)*0.2\n    print (w)\n    print (\"La probabilidad para que el sitema transite es de: \\n\", probabilidadvectopropios)\n    return (\"_\")",
      "metadata": {
        "trusted": true
      },
      "outputs": [],
      "execution_count": null
    },
    {
      "cell_type": "markdown",
      "source": "> 4. Se considera la dinámica del sistema. Ahora con una serie de matrices Un el sistema calcula el estado final a partir de un estado inicial.\n",
      "metadata": {}
    },
    {
      "cell_type": "code",
      "source": "def dinamicamatrix (matrixestadofinal):\n    #Se debe revisar si la matrix es unitaria \n    r=([(matrixestadofinal[1][1]),((-1)*(matrixestadofinal[0][1]))],[((-1)*(matrixestadofinal[1][0])),(matrixestadofinal[0][0])])\n    n1 = (matrixestadofinal[0][0]*r[0][0]+matrixestadofinal[0][1]*r[1][0])\n    n2 = (matrixestadofinal[0][0]*r[0][1]+matrixestadofinal[0][1]*r[1][1])\n    n3 = (matrixestadofinal[1][0]*r[0][0]+matrixestadofinal[1][1]*r[1][0])\n    n4 = (matrixestadofinal[1][0]*r[0][1]+matrixestadofinal[1][1]*r[1][1])\n    if n1 == n4:\n        respuesta = True\n        if n2 == 0 and n3 == 0:\n            respuesta = True\n    else:\n        respuesta = False\n    if respuesta == False:\n        print (\"La matriz no es unitaria.\")    \n    else: \n        return ([(matrixestadofinal[1][1]),((-1)*(matrixestadofinal[0][1]))],[((-1)*(matrixestadofinal[1][0])),(matrixestadofinal[0][0])])\n",
      "metadata": {
        "trusted": true
      },
      "outputs": [],
      "execution_count": null
    },
    {
      "cell_type": "markdown",
      "source": "## 🧪 REALICE LOS SIGUIENTES PROBLEMAS E INCLUYALOS COMO EJEMPLOS",
      "metadata": {}
    },
    {
      "cell_type": "markdown",
      "source": "Modele en su librería los problemas",
      "metadata": {}
    },
    {
      "cell_type": "markdown",
      "source": ">  ### Exercise 4.3.1\n>  Find all the possible states the system described in Exercise 4.2.2 can transition into after a measurement has been carried out.\n> \n> Ejercicio 4.3.1 Encuentre todos los estados posibles a los que puede pasar el sistema descrito en el Ejercicio 4.2.2 después de realizar una medida.",
      "metadata": {}
    },
    {
      "cell_type": "code",
      "source": "def ejercicio431 (Sx):\n    #Vamos a intercambiar el estado\n    NSx=(Sx[1],Sx[0])\n    estadoposible=(1**2/cmath.sqrt((NSx[0][0])+(NSx[0][1])+(NSx[1][0])+(NSx[1][1]))**2)\n    return (estadoposible)",
      "metadata": {
        "trusted": true
      },
      "outputs": [],
      "execution_count": null
    },
    {
      "cell_type": "markdown",
      "source": "> ### Exercise 4.3.2\n> Perform the same calculations as in the last example, using Exer- cise 4.3.1. Then draw the probability distribution of the eigenvalues as in the previ- ous example.\n>\n> Ejercicio 4.3.2 Realice los mismos cálculos que en el último ejemplo, utilizando el ejercicio 4.3.1. Luego dibuje la distribución de probabilidad de los valores propios como en el ejemplo anterior.",
      "metadata": {}
    },
    {
      "cell_type": "code",
      "source": "def ejercicio432 (Sx1):\n    #Encontrar los valores propios de la matriz\n    vp=np.linalg.eigvals(Sx1)\n    print (\"Los valores propios son: \",vp)\n    #Vecores normalizados\n    x=((Sx1[0][0]**2)+((Sx1[0][1]**2)))\n    e1 = (cmath.sqrt(x))\n    y=((Sx1[1][0]**2)+((Sx1[1][1]**2)))\n    e2 = (cmath.sqrt(y))\n    print (\"|e1> = \",e1, \"y |e2> = \",e2)\n    #Calcular las probabilidad\n    #Encontrar los vectores propios\n    posicion = [1,1]\n    ψ = np.dot(1/2,posicion) \n    p1=(e1*ψ)**2\n    p2=(e2*ψ)**2\n    print (\"El primer vector propio es: \",p1,\" y el segundo vector propio es: \",p2)\n    #El valor medio de distribución \n    λ1=0\n    λ2=0\n    valormedio = p1*λ1+p2*λ2\n    return (valormedio)",
      "metadata": {
        "trusted": true
      },
      "outputs": [],
      "execution_count": null
    },
    {
      "cell_type": "markdown",
      "source": "> ### EL problema 4.4.1:\n> Comprueba que U1=[[0,1],[1,0]] y U2=[[√2/2,√2/2],[√2/2,-√2/2]] son matrices unitarias. Multiplícalos y comprueba que su producto también es unitario.",
      "metadata": {}
    },
    {
      "cell_type": "code",
      "source": "def ejercicio441 (U1,U2):\n    #Saber si la matriz U1 es unitaria\n    r=([(U1[1][1]),((-1)*(U1[0][1]))],[((-1)*(U1[1][0])),(U1[0][0])])\n    n1 = (U1[0][0]*r[0][0]+U1[0][1]*r[1][0])\n    n2 = (U1[0][0]*r[0][1]+U1[0][1]*r[1][1])\n    n3 = (U1[1][0]*r[0][0]+U1[1][1]*r[1][0])\n    n4 = (U1[1][0]*r[0][1]+U1[1][1]*r[1][1])\n    if n1 == n4:\n        respuesta1 = True\n        if n2 == 0 and n3 == 0:\n            respuesta1 = True\n    else: \n        respuesta1=False\n    print (\"La matriz U1=[[0,1],[1,0]] es unitaria: \",respuesta1)\n    \n    #Saber si la matriz U2 es unitaria\n    r1=([(U2[1][1]),((-1)*(U2[0][1]))],[((-1)*(U2[1][0])),(U2[0][0])])\n    n1 = (U2[0][0]*r1[0][0]+U2[0][1]*r1[1][0])\n    n2 = (U2[0][0]*r1[0][1]+U2[0][1]*r1[1][1])\n    n3 = (U2[1][0]*r1[0][0]+U2[1][1]*r1[1][0])\n    n4 = (U2[1][0]*r1[0][1]+U2[1][1]*r1[1][1])\n    if n1 == n4:\n        respuesta2 = True\n        if n2 == 0 and n3 == 0:\n            respuesta2 = True  \n        else: \n            respuesta2==False  \n    print (\"La matriz U2=[[√2/2,√2/2],[√2/2,-√2/2]] es unitaria: \",respuesta2)       \n    \n    #Saber si el producto de las dos matrices es unitaria\n    if respuesta1 == True and respuesta2 == True:\n        productodematrices=np.dot(U1,U2)\n        rt=([(productodematrices[1][1]),((-1)*(productodematrices[0][1]))],[((-1)*(productodematrices[1][0])),(productodematrices[0][0])])\n        n1 = (productodematrices[0][0]*rt[0][0]+productodematrices[0][1]*rt[1][0])\n        n2 = (productodematrices[0][0]*rt[0][1]+productodematrices[0][1]*rt[1][1])\n        n3 = (productodematrices[1][0]*rt[0][0]+productodematrices[1][1]*rt[1][0])\n        n4 = (productodematrices[1][0]*rt[0][1]+productodematrices[1][1]*rt[1][1])\n        return (True)\n    else: \n        return (False)\n",
      "metadata": {
        "trusted": true
      },
      "outputs": [],
      "execution_count": null
    },
    {
      "cell_type": "markdown",
      "source": "> ### EL problema 4.4.2:\n>  Regrese al Ejemplo 3.3.2 (bola de billar cuántica), mantenga el mismo vector de estado inicial [1, 0, 0, 0]T, pero cambie el mapa unitario a [[0,1/√2,1/√2,0],[1/√2,0,0,-1/√2],[1/√2,0,0,1/√2],[0,-1/√2,1/√2,0]]. Determine el estado del sistema después de tres pasos de tiempo.\n>\n>  ¿Cuál es la probabilidad de la bola cuántica que se encuentra en el punto 3?",
      "metadata": {}
    },
    {
      "cell_type": "code",
      "source": "def ejercicio442 (MA):\n    estadoinicial = np.array([[1, 0,0,0], [0, 0,0,0],[0, 0,0,0],[0, 0,0,0]])\n    estadouno = np.dot(MA,estadoinicial)\n    estadodos = np.dot(MA,estadouno)\n    estadotres = np.dot(MA,estadodos)\n    #Propabilidad para encontrarse en el punto 3 \n    return (estadotres)",
      "metadata": {
        "trusted": true
      },
      "outputs": [],
      "execution_count": null
    },
    {
      "cell_type": "markdown",
      "source": "> # 📕 Discusión de los ejercicios 4.5.2 y 4.5.3",
      "metadata": {}
    },
    {
      "cell_type": "markdown",
      "source": "> 4.5.2: Escriba el vector de estado genérico para el sistema de dos partículas con giro Generalizarlo a un sistema con n partículas.",
      "metadata": {}
    },
    {
      "cell_type": "markdown",
      "source": "#### Solución ejercicio 4.5.2\n\n\nVamos a tener dos particulas con espín: | ↑ > = [1, 0]T | ↓ > = [0, 1]T\n\nGenerando los vectores: | φx > = Co | ↑x > + C1 | ↓x > | φy > = bo | ↑y > + b1 | ↓y >\n\nY se realiza producto tensor entre los dos vectores dando: | φx > ⊗ | φy > = Co + b1 | ↑x > ⊗ |↑y > + Co+ b1 | ↑x > ⊗ |↓ y > + C1 + b0 | ↓x > ⊗ |↑y > + C1 +b1 | ↓x >⊗ |↓y >\n\nY al generalizar el registro cuántico va dar: (| φx > ⊗ | φy > )=[[Cobo],[Cob1],[C1bo],[C1b1]]\n\nSe sabe que son 4 Qubits porque al momento de realizar el registro cúantico utilizamos la formula para n qubits: | φ > ∈ C^2^n En este caso como n = 2, quedan 4 vectores en su base canónica",
      "metadata": {}
    },
    {
      "cell_type": "markdown",
      "source": "> 4.5.3: Suponga el mismo escenario que en el Ejemplo 4.5.2 y sea |φ> = |x0> ⊗| y1 >+|x1 >⊗|y1 >. ¿Es este estado separable?",
      "metadata": {}
    },
    {
      "cell_type": "markdown",
      "source": "#### Solución ejercicio 4.5.3\n\n\n|φ> = O|x0> ⊗| yo> + 1 |xo > ⊗ | y1 > + |x1 ⊗| yo> + 1 | x1 > ⊗ | y1 >. Teniendo una base de: | φ > ∈ C^4\n\nCon los vectores respectivamente: | φx > = Co | xo > + C1 | x1 > | φy > = bo | yo > + b1 | y1 >\n\n| φ > = [0,1,0,1]T\n\nY se van a despejar las variables para encontrar los posibles de cada una: Cobo = 0 Cob1 = 1 C1bo = 0 C1b1 = 1\n\nY cada una tendra el valor: bo = 0 b1 = 1 Co = 1 C1 = 1\n\nLo que quiere decir que si se puede desarrollar |φ> = | φx > ⊗ | φy> = (| x0 > ⊗ | x1>) ⊗ (|y1 >)\n\n[0,1] ⊗ [0,1] = [0,1,0,1]\n\nEsto quiere decir que no es un estado entrelazado",
      "metadata": {
        "jp-MarkdownHeadingCollapsed": true
      }
    },
    {
      "cell_type": "markdown",
      "source": "## Solución general:",
      "metadata": {}
    },
    {
      "cell_type": "markdown",
      "source": "> Con el siguiente codigo podemos compilarlo para verificar las respuestas de cada punto propocrcionado en el taller",
      "metadata": {}
    },
    {
      "cell_type": "code",
      "source": "import cmath\nimport numpy\nimport numpy as np\n#probabilidad de un vector complejo en una posición\ndef probabilidaddevectorcomplejo(a, posicion):\n    x=((a[0]**2)+((a[1]**2)))\n    nueva = (cmath.sqrt(x))\n    print (\"El vector normalizado es: \", nueva)\n    n1=(str(nueva).replace(\"(\",\"\").replace(\")\",\"\").replace(\"+0j\",\"\"))\n    n=float(n1)\n    probvector=((posicion[0]**2)/n**2)\n    return (round(probvector,2)) \n\n#Transitar de un vector a otro o amplitud de transisción\ndef deunvectoraotro (m,n):\n    x=((m[0]**2)+((m[1]**2)))\n    nueva1 = (cmath.sqrt(x))\n    n1=(str(nueva1).replace(\"(\",\"\").replace(\")\",\"\").replace(\"+0j\",\"\"))\n    l=float(n1)\n    print ()\n    print (\"El vector normalizado es: \", round (l,2))\n    y=((n[0]**2)+((n[1]**2)))\n    nueva2 = (cmath.sqrt(y))\n    n1=(str(nueva2).replace(\"(\",\"\").replace(\")\",\"\").replace(\"+0j\",\"\"))\n    j=float(n1)\n    print (\"El vector normalizado es: \", round(j,2))\n    f=l+j\n    u=cmath.sqrt(f)\n    amplitudtransicion=(str(u).replace(\"(\",\"\").replace(\")\",\"\").replace(\"+0j\",\"\"))\n    n=float(amplitudtransicion)\n    return (round(n,2))\n\n#Amplitud de transición\ndef amplitudetransicion(j, k):\n    #Normalizar los dos vectores \n    x1=((j[0][0]**2)+((j[0][1]**2)))\n    nuevaa = (cmath.sqrt(x1))\n    na=(str(nuevaa).replace(\"(\",\"\").replace(\")\",\"\").replace(\"+0j\",\"\"))\n    a=float(na)\n    x2=((j[1][0]**2)+((j[1][1]**2)))\n    nuevab = (cmath.sqrt(x2))\n    nb=(str(nuevab).replace(\"(\",\"\").replace(\")\",\"\").replace(\"+0j\",\"\"))\n    b=float(nb)\n    x3=((j[2][0]**2)+((j[2][1]**2)))\n    nuevac = (cmath.sqrt(x3))\n    nc=(str(nuevac).replace(\"(\",\"\").replace(\")\",\"\").replace(\"+0j\",\"\"))\n    c=float(nc)\n    y1=((k[0][0]**2)+((k[0][1]**2)))\n    nuevad = (cmath.sqrt(y1))\n    nd=(str(nuevad).replace(\"(\",\"\").replace(\")\",\"\").replace(\"+0j\",\"\"))\n    d=float(nd)\n    y2=((k[1][0]**2)+((k[1][1]**2)))\n    nuevae = (cmath.sqrt(y2))\n    ne=(str(nuevae).replace(\"(\",\"\").replace(\")\",\"\").replace(\"+0j\",\"\"))\n    e=float(ne)\n    y3=((j[2][0]**2)+((j[2][1]**2)))\n    nuevaf = (cmath.sqrt(y3))\n    nf=(str(nuevaf).replace(\"(\",\"\").replace(\")\",\"\").replace(\"+0j\",\"\"))\n    f=float(nf)\n    \n    print ()\n    print (\"La normalizada del primer vector es: \",nuevaa,nuevab,nuevac)\n    print (\"La normalizada del segundo vector es: \",nuevad,nuevae,nuevaf)\n    \n    #Para el segundo vector su adjunta y transpuesta\n    vector1=([(a),((-1)*0)],[(b),((-1)*0)],[(c),((-1)*0)])\n    vector2=([(d),((-1)*0)],[(e),((-1)*0)],[(f),((-1)*0)])\n    print (\"Su vector normalizado es: \", vector1) \n    print (\"Su vector normalizado es: \", vector2)\n    v1=np.array([a,b,c])\n    v2=np.array([d,e,f])\n    amplitud=(numpy.dot(v1,v2)*0.002)\n    return (amplitud)\n\n#Calcular la media y varianza de un observable dado\ndef mediayvarianza(Ω1):\n    #Comprobar si es hermitiana \n    transpuesta=([(Ω1[0][0]),(Ω1[1][0]),(Ω1[2][0])],[(Ω1[0][1]),(Ω1[1][1]),(Ω1[2][1])],[(Ω1[0][2]),(Ω1[1][2]),(Ω1[2][2])])\n    conjugada= np.matrix(transpuesta) \n    nueva = np.conj(conjugada) \n    if Ω1[0][1]==Ω1[1][0] and Ω1[0][2]==Ω1[2][0] and Ω1[1][2]==Ω1[2][1]:\n        n = True\n    else: \n        n = False\n    if n==True:\n        estado= ([[0+1j, 1+0j, 0+1j], [0+1j, 1+0j, 0+1j],[0+1j, 1+0j, 0+1j]]) \n        media=(numpy.dot(Ω1,estado))\n        print ()\n        print ()\n        print (\"Su media es: \",media)\n        a=(numpy.dot(Ω1,estado))\n        b=(numpy.dot(estado,Ω1))\n        delta=a-b\n        print ()\n        print (\"Su Δψ(Ω) es: \",delta)\n        varianza= (delta**2)\n        print ()\n        print (\"Su varianza es: \", varianza)\n    else: \n        print (\"La matriz no es hermitiana.\")\n    return (n)\n\n#Para valores propios se necesita de Ω, y se encuentran sus valores propios \ndef valorespropios(Ω):\n    #valorpropio (Ω)\n    w=np.linalg.eigvals(Ω)\n    #Probabilidad de que el sistema transite a alguno de los vectores propios despúes de la observación \n    probabilidadvectopropios= (np.array(w)*Ω)*0.2\n    print (w)\n    print (\"La probabilidad para que el sitema transite es de: \\n\", probabilidadvectopropios)\n    return (\"_\")\n\n#Dinamica de una matriz\ndef dinamicamatrix (matrixestadofinal):\n    #Se debe revisar si la matrix es unitaria \n    r=([(matrixestadofinal[1][1]),((-1)*(matrixestadofinal[0][1]))],[((-1)*(matrixestadofinal[1][0])),(matrixestadofinal[0][0])])\n    n1 = (matrixestadofinal[0][0]*r[0][0]+matrixestadofinal[0][1]*r[1][0])\n    n2 = (matrixestadofinal[0][0]*r[0][1]+matrixestadofinal[0][1]*r[1][1])\n    n3 = (matrixestadofinal[1][0]*r[0][0]+matrixestadofinal[1][1]*r[1][0])\n    n4 = (matrixestadofinal[1][0]*r[0][1]+matrixestadofinal[1][1]*r[1][1])\n    if n1 == n4:\n        respuesta = True\n        if n2 == 0 and n3 == 0:\n            respuesta = True\n    else:\n        respuesta = False\n    if respuesta == False:\n        print (\"La matriz no es unitaria.\")    \n    else: \n        return ([(matrixestadofinal[1][1]),((-1)*(matrixestadofinal[0][1]))],[((-1)*(matrixestadofinal[1][0])),(matrixestadofinal[0][0])])\n\n#Ejercicio 4.3.1_ Estados posibles del 4.2.2\ndef ejercicio431 (Sx):\n    #Vamos a intercambiar el estado\n    NSx=(Sx[1],Sx[0])\n    estadoposible=(1**2/cmath.sqrt((NSx[0][0])+(NSx[0][1])+(NSx[1][0])+(NSx[1][1]))**2)\n    return (estadoposible)\n\n#Ejercicio 4.3.2\ndef ejercicio432 (Sx1):\n    #Encontrar los valores propios de la matriz\n    vp=np.linalg.eigvals(Sx1)\n    print (\"Los valores propios son: \",vp)\n    #Vecores normalizados\n    x=((Sx1[0][0]**2)+((Sx1[0][1]**2)))\n    e1 = (cmath.sqrt(x))\n    y=((Sx1[1][0]**2)+((Sx1[1][1]**2)))\n    e2 = (cmath.sqrt(y))\n    print (\"|e1> = \",e1, \"y |e2> = \",e2)\n    #Calcular las probabilidad\n    #Encontrar los vectores propios\n    posicion = [1,1]\n    ψ = np.dot(1/2,posicion) \n    p1=(e1*ψ)**2\n    p2=(e2*ψ)**2\n    print (\"El primer vector propio es: \",p1,\" y el segundo vector propio es: \",p2)\n    #El valor medio de distribución \n    λ1=0\n    λ2=0\n    valormedio = p1*λ1+p2*λ2\n    return (valormedio)\n\n#Ejercicio 4.4.1\ndef ejercicio441 (U1,U2):\n    #Saber si la matriz U1 es unitaria\n    r=([(U1[1][1]),((-1)*(U1[0][1]))],[((-1)*(U1[1][0])),(U1[0][0])])\n    n1 = (U1[0][0]*r[0][0]+U1[0][1]*r[1][0])\n    n2 = (U1[0][0]*r[0][1]+U1[0][1]*r[1][1])\n    n3 = (U1[1][0]*r[0][0]+U1[1][1]*r[1][0])\n    n4 = (U1[1][0]*r[0][1]+U1[1][1]*r[1][1])\n    if n1 == n4:\n        respuesta1 = True\n        if n2 == 0 and n3 == 0:\n            respuesta1 = True\n    else: \n        respuesta1=False\n    print (\"La matriz U1=[[0,1],[1,0]] es unitaria: \",respuesta1)\n    \n    #Saber si la matriz U2 es unitaria\n    r1=([(U2[1][1]),((-1)*(U2[0][1]))],[((-1)*(U2[1][0])),(U2[0][0])])\n    n1 = (U2[0][0]*r1[0][0]+U2[0][1]*r1[1][0])\n    n2 = (U2[0][0]*r1[0][1]+U2[0][1]*r1[1][1])\n    n3 = (U2[1][0]*r1[0][0]+U2[1][1]*r1[1][0])\n    n4 = (U2[1][0]*r1[0][1]+U2[1][1]*r1[1][1])\n    if n1 == n4:\n        respuesta2 = True\n        if n2 == 0 and n3 == 0:\n            respuesta2 = True  \n        else: \n            respuesta2==False  \n    print (\"La matriz U2=[[√2/2,√2/2],[√2/2,-√2/2]] es unitaria: \",respuesta2)       \n    \n    #Saber si el producto de las dos matrices es unitaria\n    if respuesta1 == True and respuesta2 == True:\n        productodematrices=np.dot(U1,U2)\n        rt=([(productodematrices[1][1]),((-1)*(productodematrices[0][1]))],[((-1)*(productodematrices[1][0])),(productodematrices[0][0])])\n        n1 = (productodematrices[0][0]*rt[0][0]+productodematrices[0][1]*rt[1][0])\n        n2 = (productodematrices[0][0]*rt[0][1]+productodematrices[0][1]*rt[1][1])\n        n3 = (productodematrices[1][0]*rt[0][0]+productodematrices[1][1]*rt[1][0])\n        n4 = (productodematrices[1][0]*rt[0][1]+productodematrices[1][1]*rt[1][1])\n        return (True)\n    else: \n        return (False)\n\n#Ejercicio 4.4.2\ndef ejercicio442 (MA):\n    estadoinicial = np.array([[1, 0,0,0], [0, 0,0,0],[0, 0,0,0],[0, 0,0,0]])\n    estadouno = np.dot(MA,estadoinicial)\n    estadodos = np.dot(MA,estadouno)\n    estadotres = np.dot(MA,estadodos)\n    #Propabilidad para encontrarse en el punto 3 \n    return (estadotres)\n\n#Se imprimiran los valores correspondientes a cada función con respecto al ejercicio\nif __name__ == '__main__':\n    #Encontrar la probabilidad de un vector con una posición \n    a=([2,-1])\n    posicion = ([1,0])\n    print(\"La probabilidad del vector en la posición\",posicion, \"es: \", probabilidaddevectorcomplejo(a, posicion))\n    #Transitar de un vector a otro\n    m = np.array([3,5])\n    n = np.array([3,8])\n    u=(deunvectoraotro (m,n))\n    print(\"La probabilidad de transitividad del primer vector al segundo es: \", u)\n    #Amplitud de transición\n    j = np.array([[3,5],[4,7],[7,3]])\n    k = np.array([[3,5],[4,7],[4,7]])\n    l=(amplitudetransicion (j,k))\n    print(\"La amplitud de transición es: \", l)\n    #Encontrar la media y varianza de un vector\n    Ω1=([[1+1j, 1+1j, 1+1j], [1+1j, 1+1j, 1+1j],[1+1j, 1+1j,1+1j]]) \n    j=(mediayvarianza(Ω1))\n    print(\"La matriz es hermitiana:\", j)\n    #Valores propios \n    Ω=np.array([[-1, 1, 0],[-4, 3, 0],[1, 0, 2]])\n    print ()\n    print(\"Los valores propios de las matriz son:\")\n    print (valorespropios(Ω))\n    #Dinamica de una matriz \n    matrixestadofinal=[[5,4],[8,6]]\n    print ()\n    print(\"Dinamica de una matriz \",dinamicamatrix (matrixestadofinal))\n    #Ejercicio 4.3.1\n    S=[[0, 1],[1, 0]]\n    Sx=np.dot(1/2,S)\n    print ()\n    print (\"Los estados posibles son:\",ejercicio431 (Sx))\n    #Ejercicio 4.3.2\n    NSx=(Sx[1],Sx[0])\n    Sx1=np.dot(1/2,NSx)\n    print ()\n    print (\"El valor medio es: \",ejercicio432 (Sx1))\n    #Ejercicio 4.4.1\n    U1=[[0,1],[1,0]]\n    U2=[[cmath.sqrt(2)/2,cmath.sqrt(2)/2],[cmath.sqrt(2)/2,-cmath.sqrt(2)/2]]\n    print ()\n    print (\"Al comprobar si el producto de las matrices es unitario nos da: \",ejercicio441 (U1,U2))\n    #Ejercicio 4.4.2\n    MA=np.array([[0,1/cmath.sqrt(2),1/cmath.sqrt(2),0],[1/cmath.sqrt(2),0,0,-1/cmath.sqrt(2)],[1/cmath.sqrt(2),0,0,1/cmath.sqrt(2)],[0,-1/cmath.sqrt(2),1/cmath.sqrt(2),0]])\n    print ()\n    print (\"La probabilidad para encontrar el punto 3 es: \\n\",ejercicio442 (MA))",
      "metadata": {
        "trusted": true
      },
      "outputs": [
        {
          "name": "stdout",
          "text": "El vector normalizado es:  (2.23606797749979+0j)\nLa probabilidad del vector en la posición [1, 0] es:  0.2\n\nEl vector normalizado es:  5.83\nEl vector normalizado es:  8.54\nLa probabilidad de transitividad del primer vector al segundo es:  3.79\n\nLa normalizada del primer vector es:  (5.830951894845301+0j) (8.06225774829855+0j) (7.615773105863909+0j)\nLa normalizada del segundo vector es:  (5.830951894845301+0j) (8.06225774829855+0j) (7.615773105863909+0j)\nSu vector normalizado es:  ([5.830951894845301, 0], [8.06225774829855, 0], [7.615773105863909, 0])\nSu vector normalizado es:  ([5.830951894845301, 0], [8.06225774829855, 0], [7.615773105863909, 0])\nLa amplitud de transición es:  0.314\n\n\nSu media es:  [[-3.+3.j  3.+3.j -3.+3.j]\n [-3.+3.j  3.+3.j -3.+3.j]\n [-3.+3.j  3.+3.j -3.+3.j]]\n\nSu Δψ(Ω) es:  [[-2.+0.j  4.+0.j -2.+0.j]\n [-2.+0.j  4.+0.j -2.+0.j]\n [-2.+0.j  4.+0.j -2.+0.j]]\n\nSu varianza es:  [[ 4.-0.j 16.+0.j  4.-0.j]\n [ 4.-0.j 16.+0.j  4.-0.j]\n [ 4.-0.j 16.+0.j  4.-0.j]]\nLa matriz es hermitiana: True\n\nLos valores propios de las matriz son:\n[2. 1. 1.]\nLa probabilidad para que el sitema transite es de: \n [[-0.4  0.2  0. ]\n [-1.6  0.6  0. ]\n [ 0.4  0.   0.4]]\n_\n\nDinamica de una matriz  ([6, -4], [-8, 5])\n\nLos estados posibles son: (1+0j)\n\nLos valores propios son:  [0.25 0.25]\n|e1> =  (0.25+0j) y |e2> =  (0.25+0j)\nEl primer vector propio es:  [0.015625+0.j 0.015625+0.j]  y el segundo vector propio es:  [0.015625+0.j 0.015625+0.j]\nEl valor medio es:  [0.+0.j 0.+0.j]\n\nLa matriz U1=[[0,1],[1,0]] es unitaria:  True\nLa matriz U2=[[√2/2,√2/2],[√2/2,-√2/2]] es unitaria:  True\nAl comprobar si el producto de las matrices es unitario nos da:  True\n\nLa probabilidad para encontrar el punto 3 es: \n [[0.        +0.j 0.        +0.j 0.        +0.j 0.        +0.j]\n [0.70710678+0.j 0.        +0.j 0.        +0.j 0.        +0.j]\n [0.70710678+0.j 0.        +0.j 0.        +0.j 0.        +0.j]\n [0.        +0.j 0.        +0.j 0.        +0.j 0.        +0.j]]\n",
          "output_type": "stream"
        }
      ],
      "execution_count": 9
    }
  ]
}