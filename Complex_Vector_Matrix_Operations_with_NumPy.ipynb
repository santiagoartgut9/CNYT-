{
  "metadata": {
    "kernelspec": {
      "name": "python",
      "display_name": "Python (Pyodide)",
      "language": "python"
    },
    "language_info": {
      "codemirror_mode": {
        "name": "python",
        "version": 3
      },
      "file_extension": ".py",
      "mimetype": "text/x-python",
      "name": "python",
      "nbconvert_exporter": "python",
      "pygments_lexer": "ipython3",
      "version": "3.8"
    }
  },
  "nbformat_minor": 5,
  "nbformat": 4,
  "cells": [
    {
      "id": "a07bd584",
      "cell_type": "markdown",
      "source": "# Theory of Complex Vector Spaces\nComplex vector spaces extend the idea of real vector spaces by allowing vectors to have complex numbers as their components. In these spaces, vectors can be added together and multiplied by complex scalars to produce new vectors. Key operations in complex vector spaces include vector addition, scalar multiplication, vector negation, and complex conjugation.",
      "metadata": {}
    },
    {
      "id": "f43fc972-23ab-4d81-aa26-c51325dac8f3",
      "cell_type": "markdown",
      "source": "# Creating complex column vectors",
      "metadata": {}
    },
    {
      "id": "029f08ba-1cdc-4928-9631-f62c51ab7aa5",
      "cell_type": "code",
      "source": "import numpy as np\n\n# Define a 2x2 square matrix\nmatrix = np.array([[2, 3],\n                   [1, 4]])\n\n# Define a vector of size 2\nvector = np.array([5, 6])\n\n# Multiply the matrix by the vector\nresult = np.dot(matrix, vector)\n\n# Display the result\nprint(\"Matrix:\\n\", matrix)\nprint(\"\\nVector:\\n\", vector)\nprint(\"\\nResult of multiplication:\\n\", result)\n",
      "metadata": {
        "trusted": true
      },
      "outputs": [
        {
          "name": "stdout",
          "text": "Matrix:\n [[2 3]\n [1 4]]\n\nVector:\n [5 6]\n\nResult of multiplication:\n [28 29]\n",
          "output_type": "stream"
        }
      ],
      "execution_count": 3
    },
    {
      "id": "975c2284",
      "cell_type": "markdown",
      "source": "## Manipulating Complex Column Vectors using NumPy\nHere we demonstrate how to manipulate complex column vectors using NumPy, including operations like sum, negation, multiplication by a scalar, transpose, adjunct, and conjugate.",
      "metadata": {}
    },
    {
      "id": "e8058abe",
      "cell_type": "code",
      "source": "\nimport numpy as np\n\n# Define two complex column vectors\nv1 = np.array([[2+3j], [5-4j], [1+1j]])\nv2 = np.array([[1-1j], [3+2j], [4-4j]])\n\n# Sum\nsum_v = v1 + v2\n\n# Negation\nneg_v1 = -v1\n\n# Multiplication by a scalar\nscalar = 2 + 1j\nmult_v1 = v1 * scalar\n\n# Transpose\ntranspose_v1 = v1.T\n\n# Adjunct (Conjugate transpose)\nadjunct_v1 = v1.T.conj()\n\n# Conjugate\nconjugate_v1 = np.conjugate(v1)\n\n(sum_v, neg_v1, mult_v1, transpose_v1, adjunct_v1, conjugate_v1)\n",
      "metadata": {},
      "outputs": [],
      "execution_count": null
    },
    {
      "id": "995ae5fc",
      "cell_type": "markdown",
      "source": "# Theory of Vector Spaces using Matrices\nIn the context of matrices, vector spaces can be defined where each vector is a matrix of a particular size. Operations on these matrix-vector spaces include matrix addition, scalar multiplication, matrix negation, transpose, adjunct, and conjugate. In this section, we focus on square matrices of size 3x3.",
      "metadata": {}
    },
    {
      "id": "9385c1f0",
      "cell_type": "markdown",
      "source": "## Manipulating Square Matrices using NumPy\nExamples of how to manipulate 3x3 square matrices using NumPy, showing operations such as sum, negation, multiplication by a scalar, conjugate, transpose, and adjunct.",
      "metadata": {}
    },
    {
      "id": "b81ecc57",
      "cell_type": "code",
      "source": "\n# Define two 3x3 complex matrices\nm1 = np.array([[2+3j, 4-1j, 0], \n               [1+1j, 3+3j, 5], \n               [4, 6-2j, 1-1j]])\nm2 = np.array([[1, 2+1j, 3-3j], \n               [0, -1+2j, 1-2j], \n               [3+3j, 2, 4+4j]])\n\n# Sum\nsum_m = m1 + m2\n\n# Negation\nneg_m1 = -m1\n\n# Multiplication by a scalar\nscalar = 0.5 + 0.5j\nmult_m1 = m1 * scalar\n\n# Conjugate\nconjugate_m1 = np.conjugate(m1)\n\n# Transpose\ntranspose_m1 = m1.T\n\n# Adjunct (Conjugate transpose)\nadjunct_m1 = m1.T.conj()\n\n(sum_m, neg_m1, mult_m1, conjugate_m1, transpose_m1, adjunct_m1)\n",
      "metadata": {
        "trusted": true
      },
      "outputs": [
        {
          "execution_count": 28,
          "output_type": "execute_result",
          "data": {
            "text/plain": "(array([[3.+3.j, 6.+0.j, 3.-3.j],\n        [1.+1.j, 2.+5.j, 6.-2.j],\n        [7.+3.j, 8.-2.j, 5.+3.j]]),\n array([[-2.-3.j, -4.+1.j, -0.-0.j],\n        [-1.-1.j, -3.-3.j, -5.-0.j],\n        [-4.-0.j, -6.+2.j, -1.+1.j]]),\n array([[-0.5+2.5j,  2.5+1.5j,  0. +0.j ],\n        [ 0. +1.j ,  0. +3.j ,  2.5+2.5j],\n        [ 2. +2.j ,  4. +2.j ,  1. +0.j ]]),\n array([[2.-3.j, 4.+1.j, 0.-0.j],\n        [1.-1.j, 3.-3.j, 5.-0.j],\n        [4.-0.j, 6.+2.j, 1.+1.j]]),\n array([[2.+3.j, 1.+1.j, 4.+0.j],\n        [4.-1.j, 3.+3.j, 6.-2.j],\n        [0.+0.j, 5.+0.j, 1.-1.j]]),\n array([[2.-3.j, 1.-1.j, 4.-0.j],\n        [4.+1.j, 3.-3.j, 6.+2.j],\n        [0.-0.j, 5.-0.j, 1.+1.j]]))"
          },
          "metadata": {}
        }
      ],
      "execution_count": 28
    },
    {
      "id": "ed909545-8a5c-4cca-85f7-48688b597598",
      "cell_type": "markdown",
      "source": "## Checking the Dimension of a Matrix\nWe can check the dimension of a matrix using the `.shape` attribute.",
      "metadata": {}
    },
    {
      "id": "0930dc10-af6d-427f-bbcb-75bfaf051db5",
      "cell_type": "code",
      "source": "# Checking the dimension of matrix1\nm1.shape",
      "metadata": {},
      "outputs": [],
      "execution_count": null
    },
    {
      "id": "b3fe896b",
      "cell_type": "markdown",
      "source": "## Action of a Matrix on a Vector\nFinally, examples of how to use Python to multiply a 3x3 square matrix by a 3x1 column vector.",
      "metadata": {}
    },
    {
      "id": "e514d047",
      "cell_type": "code",
      "source": "\n# Multiplying a 3x3 matrix by a 3x1 vector\nresult = np.dot(m1, v1)\nresult\n",
      "metadata": {},
      "outputs": [],
      "execution_count": null
    },
    {
      "id": "5adf9d8a-af43-4074-ab1a-3cabdc4accff",
      "cell_type": "markdown",
      "source": "# Exercises on Complex Vectors and Matrices with Concrete Cases\n\nThis set of exercises focuses on operations with complex column vectors and complex square matrices, including concrete cases with vectors and matrices written in LaTeX format.\n\n## Complex Column Vector Operations\n\n### Exercise 1: Sum of Two Complex Vectors\nGiven two complex vectors \n$$ v1 = \\begin{bmatrix} 1 + 2i \\\\ 3 - i \\end{bmatrix} $$ \nand \n$$ v2 = \\begin{bmatrix} 2 - i \\\\ 4 + 2i \\end{bmatrix} $$, \nfind their sum.\n\n\n\n\n\n### Exercise 2: Negation of a Complex Vector\nGiven a complex vector \n$$ v = \\begin{bmatrix} 2 + 3i \\\\ 1 - 2i \\end{bmatrix} $$, \nfind its negation.\n\n### Exercise 3: Multiplication of a Complex Vector by a Scalar\nMultiply the complex vector \n$$ v = \\begin{bmatrix} 1 - i \\\\ 2 + 2i \\end{bmatrix} $$ \nby the complex scalar $$ 3 + i $$.\n\n### Exercise 4: Transpose of a Complex Vector\nFind the transpose of the complex vector \n$$ v = \\begin{bmatrix} 2 - i \\\\ 3 + 4i \\end{bmatrix} $$.\n\n### Exercise 5: Conjugate of a Complex Vector\nCompute the conjugate of the complex vector \n$$ v = \\begin{bmatrix} 1 + i \\\\ 2 - 3i \\end{bmatrix} $$.\n\n### Exercise 6: Adjunct (Conjugate Transpose) of a Complex Vector\nFind the adjunct (or conjugate transpose) of the complex vector \n$$ v = \\begin{bmatrix} 1 - 2i \\\\ 3 + i \\end{bmatrix} $$.\n\n## Complex Square Matrix Operations\n\n### Exercise 7: Sum of Two Complex Matrices\nGiven two complex matrices \n$$ m1 = \\begin{bmatrix} 1 + i & 2 - i \\\\ 3 + 2i & 4 \\end{bmatrix} $$ \nand \n$$ m2 = \\begin{bmatrix} 2 - 3i & 1 \\\\ i & 2 + 2i \\end{bmatrix} $$, \ncalculate their sum.\n\n### Exercise 8: Negation of a Complex Matrix\nFind the negation of the complex matrix \n$$ m = \\begin{bmatrix} 2 + i & 3 \\\\ 1 - i & 2 + 2i \\end{bmatrix} $$.\n\n### Exercise 9: Multiplication of a Complex Matrix by a Scalar\nMultiply the complex matrix \n$$ m = \\begin{bmatrix} 1 - i & 2 \\\\ 3 + i & 4 - 2i \\end{bmatrix} $$ \nby the complex scalar $$ 2 + 3i $$.\n\n### Exercise 10: Conjugate of a Complex Matrix\nCompute the conjugate of the complex matrix \n$$ m = \\begin{bmatrix} 1 + i & 2 \\\\ 3 - i & 4 + 2i \\end{bmatrix} $$.\n\n### Exercise 11: Transpose of a Complex Matrix\nFind the transpose of the complex matrix \n$$ m = \\begin{bmatrix} 1 - i & 2 + 2i \\\\ 3 & 4 - i \\end{bmatrix} $$.\n\n### Exercise 12: Adjunct (Conjugate Transpose) of a Complex Matrix\nCalculate the adjunct (or conjugate transpose) of the complex matrix \n$$ m = \\begin{bmatrix} 1 + 2i & 3 - i \\\\ 4 & 5 + i \\end{bmatrix} $$.\n\n### Exercise 13: Checking the Dimensions of a Matrix\nDetermine the dimensions of the complex matrix \n$$ m = \\begin{bmatrix} 1 - i & 2 \\\\ 3 + 2i & 4 - i \\end{bmatrix} $$.\n\n## Multiplication of Matrices and Vectors\n\n### Exercise 14: Multiplying a Complex Square Matrix by a Complex Column Vector\nMultiply the complex square matrix \n$$ m = \\begin{bmatrix} 1 + i & 2 - i \\\\ 3 & 4 + i \\end{bmatrix} $$ \nby the complex column vector \n$$ v = \\begin{bmatrix} 2 - i \\\\ 1 + 3i \\end{bmatrix} $$.\n\n## Instructions\nFor each exercise, ensure to display both the input (vectors/matrices) and the result of the operation.Use NumPy for these exercises to practice handling complex numbers and matrix operations in Python.\n",
      "metadata": {}
    },
    {
      "id": "4201885f-53e3-4952-b5ce-13cdce254756",
      "cell_type": "markdown",
      "source": "# Solucion del taller:\n\n### Exercise 1: Sum of Two Complex Vectors\nGiven two complex vectors \n$$ v1 = \\begin{bmatrix} 1 + 2i \\\\ 3 - i \\end{bmatrix} $$ \nand \n$$ v2 = \\begin{bmatrix} 2 - i \\\\ 4 + 2i \\end{bmatrix} $$, \nfind their sum.\n",
      "metadata": {}
    },
    {
      "id": "da28c149-1b21-4ebd-9a19-dd82a6bdb181",
      "cell_type": "code",
      "source": "import numpy as np\n\n# Definir los vectores como matrices\nv1 = np.array([[1+2j],\n               [3-1j]])\n\nv2 = np.array([[2-1j],\n               [4+2j]])\n\n# Sumar los vectores\nresultado = v1 + v2\n\n# Imprimir resultado\nprint(\"El resultado de la suma de los dos vectores es:\")\nprint(resultado)",
      "metadata": {
        "trusted": true
      },
      "outputs": [
        {
          "name": "stdout",
          "text": "El resultado de la suma de los dos vectores es:\n[[3.+1.j]\n [7.+1.j]]\n",
          "output_type": "stream"
        }
      ],
      "execution_count": 5
    },
    {
      "id": "f6d708b5-dddd-443f-a1c5-b54cc58f2f68",
      "cell_type": "markdown",
      "source": "# Exercise 2: Negation of a Complex Vector",
      "metadata": {}
    },
    {
      "id": "31229f0f-d804-427d-998f-c1b4c2175475",
      "cell_type": "markdown",
      "source": "Given a complex vector \n$$ v = \\begin{bmatrix} 2 + 3i \\\\ 1 - 2i \\end{bmatrix} $$, \nfind its negation.",
      "metadata": {}
    },
    {
      "id": "4a380e8a-0fb3-49b0-a572-78ff1785e7d3",
      "cell_type": "code",
      "source": "def negacion_vector_complejo(vector):\n    \n    return [-1 * elemento for elemento in vector]\n\n# Vector complejo dado\nv = [2 + 3j, 1 - 2j]\n\n# Negación del vector\nnegacion_v = negacion_vector_complejo(v)\n\n# Imprimir resultado\nprint(\"La negación del vector complejo es:\", negacion_v)",
      "metadata": {
        "trusted": true
      },
      "outputs": [
        {
          "name": "stdout",
          "text": "La negación del vector complejo es: [(-2-3j), (-1+2j)]\n",
          "output_type": "stream"
        }
      ],
      "execution_count": 6
    },
    {
      "id": "4e938007-fc54-4dff-8be5-d99e2f332c9b",
      "cell_type": "markdown",
      "source": "# Exercise 3: Multiplication of a Complex Vector by a Scalar",
      "metadata": {}
    },
    {
      "id": "941a7c96-ff7b-45e0-af76-15d2d4a1177d",
      "cell_type": "code",
      "source": "def multiplicacion_vector_escalar(vector, escalar):\n  \n    return [elemento * escalar for elemento in vector]\n\n# Vector complejo dado\nv = [1 - 1j, 2 + 2j]\n\n# Escalar complejo dado\nescalar = 3 + 1j\n\n# Multiplicación del vector por el escalar\nresultado = multiplicacion_vector_escalar(v, escalar)\n\n# Imprimir resultado\nprint(\"El resultado de multiplicar el vector complejo por el escalar complejo es:\", resultado)",
      "metadata": {
        "trusted": true
      },
      "outputs": [
        {
          "name": "stdout",
          "text": "El resultado de multiplicar el vector complejo por el escalar complejo es: [(4-2j), (4+8j)]\n",
          "output_type": "stream"
        }
      ],
      "execution_count": 7
    },
    {
      "id": "285a9158-83b8-4a8b-9050-56e913117299",
      "cell_type": "markdown",
      "source": "# Exercise 4: Transpose of a Complex Vector",
      "metadata": {}
    },
    {
      "id": "f3ff6e1a-2e4c-412f-a863-5b61ae0aa383",
      "cell_type": "markdown",
      "source": "Find the transpose of the complex vector \n$$ v = \\begin{bmatrix} 2 - i \\\\ 3 + 4i \\end{bmatrix} $$.",
      "metadata": {}
    },
    {
      "id": "ec0707e6-0f53-4e75-b998-f066caf9719d",
      "cell_type": "code",
      "source": "import numpy as np\n\ndef transpuesta_vector_complejo(vector):\n    \n    matriz_vector = np.array(vector)\n    matriz_transpuesta = matriz_vector.T\n    return matriz_transpuesta.tolist()\n\n# Vector complejo dado\nv = [[2 - 1j],\n     [3 + 4j]]\n\n# Transposición del vector\ntranspuesta_v = transpuesta_vector_complejo(v)\n\n# Imprimir resultado\nprint(\"La traspuesta del vector complejo es:\")\nfor fila in transpuesta_v:\n    print(fila)",
      "metadata": {
        "trusted": true
      },
      "outputs": [
        {
          "name": "stdout",
          "text": "La transposición del vector complejo es:\n[(2-1j), (3+4j)]\n",
          "output_type": "stream"
        }
      ],
      "execution_count": 8
    },
    {
      "id": "9d77d325-4b95-4084-bc32-372e866ca84b",
      "cell_type": "markdown",
      "source": "# Exercise 5: Conjugate of a Complex Vector",
      "metadata": {}
    },
    {
      "id": "bcc8185d-aa79-47e8-a9cc-708748cf040c",
      "cell_type": "markdown",
      "source": "Compute the conjugate of the complex vector \n$$ v = \\begin{bmatrix} 1 + i \\\\ 2 - 3i \\end{bmatrix} $$.",
      "metadata": {}
    },
    {
      "id": "2e015394-f8c3-435b-9ee8-5848434985b9",
      "cell_type": "code",
      "source": "def conjugado_vector_complejo(vector):\n   \n    return [elemento.conjugate() for elemento in vector]\n\n# Vector complejo dado\nv = [1 + 1j, 2 - 3j]\n\n# Conjugado del vector\nconjugado_v = conjugado_vector_complejo(v)\n\n# Imprimir resultado\nprint(\"El conjugado del vector complejo es:\", conjugado_v)",
      "metadata": {
        "trusted": true
      },
      "outputs": [
        {
          "name": "stdout",
          "text": "El conjugado del vector complejo es: [(1-1j), (2+3j)]\n",
          "output_type": "stream"
        }
      ],
      "execution_count": 9
    },
    {
      "id": "5fec6bb2-56a2-4415-b055-b82a47824db4",
      "cell_type": "markdown",
      "source": "# Exercise 6: Adjunct (Conjugate Transpose) of a Complex Vector",
      "metadata": {}
    },
    {
      "id": "fffb3a7e-dc24-46d5-bb3b-10ab0bc9239d",
      "cell_type": "markdown",
      "source": "Find the adjunct (or conjugate transpose) of the complex vector \n$$ v = \\begin{bmatrix} 1 - 2i \\\\ 3 + i \\end{bmatrix} $$.",
      "metadata": {}
    },
    {
      "id": "c7210f51-a1e4-4f85-9ee6-975b2dd16a7e",
      "cell_type": "code",
      "source": "import numpy as np\n\ndef adjunto_vector_complejo(vector):\n   \n    matriz_vector = np.array(vector)\n    transpuesta_conjugada = matriz_vector.T.conj()\n    return transpuesta_conjugada.tolist()\n\n# Vector complejo dado\nv = [[1 - 2j],\n     [3 + 1j]]\n\n# Adjunto del vector\nadjunto_v = adjunto_vector_complejo(v)\n\n# Imprimir resultado\nprint(\"El adjunto del vector complejo es:\")\nfor fila in adjunto_v:\n    print(fila)",
      "metadata": {
        "trusted": true
      },
      "outputs": [
        {
          "name": "stdout",
          "text": "El adjunto del vector complejo es:\n[(1+2j), (3-1j)]\n",
          "output_type": "stream"
        }
      ],
      "execution_count": 10
    },
    {
      "id": "2f042df0-7d09-4983-ab1a-ca71f30258de",
      "cell_type": "markdown",
      "source": "# Exercise 7: Sum of Two Complex Matrices\n",
      "metadata": {}
    },
    {
      "id": "8342c075-fe83-44c0-8357-c3d4f7a6991f",
      "cell_type": "markdown",
      "source": "Given two complex matrices \n$$ m1 = \\begin{bmatrix} 1 + i & 2 - i \\\\ 3 + 2i & 4 \\end{bmatrix} $$ \nand \n$$ m2 = \\begin{bmatrix} 2 - 3i & 1 \\\\ i & 2 + 2i \\end{bmatrix} $$, \ncalculate their sum.",
      "metadata": {}
    },
    {
      "id": "c7002527-b5ae-4204-85fc-d1996faf4aba",
      "cell_type": "code",
      "source": "import numpy as np\n\ndef suma_matrices_complejas(m1, m2):\n    \n    matriz_m1 = np.array(m1)\n    matriz_m2 = np.array(m2)\n    suma = matriz_m1 + matriz_m2\n    return suma.tolist()\n\n# Matrices complejas dadas\nm1 = [[1 + 1j, 2 - 1j],\n      [3 + 2j, 4]]\n\nm2 = [[2 - 3j, 1],\n      [1j, 2 + 2j]]\n\n# Suma de las matrices\nresultado = suma_matrices_complejas(m1, m2)\n\n# Imprimir resultado\nprint(\"La suma de las dos matrices complejas es:\")\nfor fila in resultado:\n    print(fila)",
      "metadata": {
        "trusted": true
      },
      "outputs": [
        {
          "name": "stdout",
          "text": "La suma de las dos matrices complejas es:\n[(3-2j), (3-1j)]\n[(3+3j), (6+2j)]\n",
          "output_type": "stream"
        }
      ],
      "execution_count": 13
    },
    {
      "id": "09e16bd6-637a-4be2-9d83-e01a8d8f88b1",
      "cell_type": "markdown",
      "source": "# Exercise 8: Negation of a Complex Matrix\n",
      "metadata": {}
    },
    {
      "id": "993fd7db-56f9-425b-984a-5692750a7bee",
      "cell_type": "markdown",
      "source": "Find the negation of the complex matrix \n$$ m = \\begin{bmatrix} 2 + i & 3 \\\\ 1 - i & 2 + 2i \\end{bmatrix} $$.",
      "metadata": {}
    },
    {
      "id": "37ec7f26-31a5-44a8-b999-30cf3ee06173",
      "cell_type": "code",
      "source": "import numpy as np\n\ndef negacion_matriz_compleja(matriz):\n   \n    negacion = np.negative(matriz)\n    return negacion.tolist()\n\n# Matriz compleja dada\nm = [[2 + 1j, 3],\n     [1 - 1j, 2 + 2j]]\n\n# Negación de la matriz\nresultado = negacion_matriz_compleja(m)\n\n# Imprimir resultado\nprint(\"La negación de la matriz compleja es:\")\nfor fila in resultado:\n    print(fila)",
      "metadata": {
        "trusted": true
      },
      "outputs": [
        {
          "name": "stdout",
          "text": "La negación de la matriz compleja es:\n[(-2-1j), (-3-0j)]\n[(-1+1j), (-2-2j)]\n",
          "output_type": "stream"
        }
      ],
      "execution_count": 14
    },
    {
      "id": "943b083f-9053-45ad-bd5e-123e06c3a519",
      "cell_type": "markdown",
      "source": "# Exercise 9: Multiplication of a Complex Matrix by a Scalar",
      "metadata": {}
    },
    {
      "id": "c9d3b542-217c-4df2-a6dc-bde3a367dade",
      "cell_type": "markdown",
      "source": "Multiply the complex matrix \n$$ m = \\begin{bmatrix} 1 - i & 2 \\\\ 3 + i & 4 - 2i \\end{bmatrix} $$ \nby the complex scalar $$ 2 + 3i $$.\n",
      "metadata": {}
    },
    {
      "id": "6809ed23-3cf9-4ed8-914f-256b05bda6d4",
      "cell_type": "code",
      "source": "import numpy as np\n\ndef multiplicacion_matriz_escalar(matriz, escalar):\n \n    matriz_np = np.array(matriz)\n    resultado = matriz_np * escalar\n    return resultado.tolist()\n\n# Matriz compleja dada\nm = [[1 - 1j, 2],\n     [3 + 1j, 4 - 2j]]\n\n# Escalar complejo dado\nescalar = 2 + 3j\n\n# Multiplicación de la matriz por el escalar\nresultado = multiplicacion_matriz_escalar(m, escalar)\n\n# Imprimir resultado\nprint(\"El resultado de multiplicar la matriz compleja por el escalar complejo es:\")\nfor fila in resultado:\n    print(fila)",
      "metadata": {
        "trusted": true
      },
      "outputs": [
        {
          "name": "stdout",
          "text": "El resultado de multiplicar la matriz compleja por el escalar complejo es:\n[(5+1j), (4+6j)]\n[(3+11j), (14+8j)]\n",
          "output_type": "stream"
        }
      ],
      "execution_count": 15
    },
    {
      "id": "8d96f8a8-3b31-4d71-8c08-8c3109deeae1",
      "cell_type": "markdown",
      "source": "# Exercise 10: Conjugate of a Complex Matrix",
      "metadata": {}
    },
    {
      "id": "cbdc36e4-2b00-43f5-9906-aa263438a473",
      "cell_type": "markdown",
      "source": "Compute the conjugate of the complex matrix \n$$ m = \\begin{bmatrix} 1 + i & 2 \\\\ 3 - i & 4 + 2i \\end{bmatrix} $$.",
      "metadata": {}
    },
    {
      "id": "5838eddc-208b-4fb0-8038-aa6e3f61e559",
      "cell_type": "code",
      "source": "def conjugado_matriz_compleja(matriz):\n    \n    conjugado = [[elemento.conjugate() for elemento in fila] for fila in matriz]\n    return conjugado\n\n# Matriz compleja dada\nm = [[1 + 1j, 2],\n     [3 - 1j, 4 + 2j]]\n\n# Conjugado de la matriz\nresultado = conjugado_matriz_compleja(m)\n\n# Imprimir resultado\nprint(\"La conjugada de la matriz compleja es:\")\nfor fila in resultado:\n    print(fila)",
      "metadata": {
        "trusted": true
      },
      "outputs": [
        {
          "name": "stdout",
          "text": "La conjugada de la matriz compleja es:\n[(1-1j), 2]\n[(3+1j), (4-2j)]\n",
          "output_type": "stream"
        }
      ],
      "execution_count": 16
    },
    {
      "id": "5f6c8d23-bf43-48d1-955f-a6b16cd877a8",
      "cell_type": "markdown",
      "source": "# Exercise 11: Transpose of a Complex Matrix",
      "metadata": {}
    },
    {
      "id": "f442d457-c207-4661-9a16-0b732d268c38",
      "cell_type": "markdown",
      "source": "Find the transpose of the complex matrix \n$$ m = \\begin{bmatrix} 1 - i & 2 + 2i \\\\ 3 & 4 - i \\end{bmatrix} $$.",
      "metadata": {}
    },
    {
      "id": "319eaa0a-5841-448a-b15b-c910f7a2e339",
      "cell_type": "code",
      "source": "import numpy as np\n\ndef transpuesta_matriz_compleja(matriz):\n  \n    matriz_np = np.array(matriz)\n    transpuesta = matriz_np.T\n    return transpuesta.tolist()\n\n# Matriz compleja dada\nm = [[1 - 1j, 2 + 2j],\n     [3, 4 - 1j]]\n\n# Transposición de la matriz\nresultado = transpuesta_matriz_compleja(m)\n\n# Imprimir resultado\nprint(\"La transposición de la matriz compleja es:\")\nfor fila in resultado:\n    print(fila)",
      "metadata": {
        "trusted": true
      },
      "outputs": [
        {
          "name": "stdout",
          "text": "La transposición de la matriz compleja es:\n[(1-1j), (3+0j)]\n[(2+2j), (4-1j)]\n",
          "output_type": "stream"
        }
      ],
      "execution_count": 17
    },
    {
      "id": "d67c4e94-a0ae-470f-9d91-924578c2672f",
      "cell_type": "markdown",
      "source": "# Exercise 12: Adjunct (Conjugate Transpose) of a Complex Matrix",
      "metadata": {}
    },
    {
      "id": "80ddcb0b-3722-48da-a16d-464233ef9b76",
      "cell_type": "markdown",
      "source": "Calculate the adjunct (or conjugate transpose) of the complex matrix \n$$ m = \\begin{bmatrix} 1 + 2i & 3 - i \\\\ 4 & 5 + i \\end{bmatrix} $$.",
      "metadata": {}
    },
    {
      "id": "d685753f-b35f-4b91-9a21-71df9bc799ad",
      "cell_type": "code",
      "source": "import numpy as np\n\ndef adjunto_matriz_compleja(matriz):\n   \n    matriz_np = np.array(matriz)\n    adjunto = np.conj(matriz_np.T)\n    return adjunto.tolist()\n\n# Matriz compleja dada\nm = [[1 + 2j, 3 - 1j],\n     [4, 5 + 1j]]\n\n# Adjunto de la matriz\nresultado = adjunto_matriz_compleja(m)\n\n# Imprimir resultado\nprint(\"El adjunto (transpuesto conjugado) de la matriz compleja es:\")\nfor fila in resultado:\n    print(fila)",
      "metadata": {
        "trusted": true
      },
      "outputs": [
        {
          "name": "stdout",
          "text": "El adjunto (transpuesto conjugado) de la matriz compleja es:\n[(1-2j), (4-0j)]\n[(3+1j), (5-1j)]\n",
          "output_type": "stream"
        }
      ],
      "execution_count": 18
    },
    {
      "id": "790609d8-341c-4c40-a765-99bc0afc2755",
      "cell_type": "markdown",
      "source": "# Exercise 13: Checking the Dimensions of a Matrix\n",
      "metadata": {}
    },
    {
      "id": "1ac6cda7-e13d-4d41-8560-a28405080c8b",
      "cell_type": "markdown",
      "source": "Determine the dimensions of the complex matrix \n$$ m = \\begin{bmatrix} 1 - i & 2 \\\\ 3 + 2i & 4 - i \\end{bmatrix} $$.",
      "metadata": {}
    },
    {
      "id": "532db0a6-2832-4b9f-b122-771c75eff193",
      "cell_type": "code",
      "source": "def dimensiones_matriz(matriz):\n   \n    num_filas = len(matriz)\n    num_columnas = len(matriz[0])\n    return num_filas, num_columnas\n\n# Matriz compleja dada\nm = [[1 - 1j, 2],\n     [3 + 2j, 4 - 1j]]\n\n# Obtener dimensiones de la matriz\nfilas, columnas = dimensiones_matriz(m)\n\n# Imprimir resultado\nprint(\"La matriz tiene\", filas, \"filas y\", columnas, \"columnas.\")",
      "metadata": {
        "trusted": true
      },
      "outputs": [
        {
          "name": "stdout",
          "text": "La matriz tiene 2 filas y 2 columnas.\n",
          "output_type": "stream"
        }
      ],
      "execution_count": 26
    },
    {
      "id": "813c0f68-a933-417c-84d0-a37c77cc1669",
      "cell_type": "markdown",
      "source": "# Exercise 14: Multiplying a Complex Square Matrix by a Complex Column Vector\n",
      "metadata": {}
    },
    {
      "id": "600c7152-bf5b-42a9-b632-2e16a032ce93",
      "cell_type": "markdown",
      "source": "Multiply the complex square matrix \n$$ m = \\begin{bmatrix} 1 + i & 2 - i \\\\ 3 & 4 + i \\end{bmatrix} $$ \nby the complex column vector \n$$ v = \\begin{bmatrix} 2 - i \\\\ 1 + 3i \\end{bmatrix} $$.",
      "metadata": {}
    },
    {
      "id": "b0e13fe4-089c-4af9-b261-34af795ef9c9",
      "cell_type": "code",
      "source": "import numpy as np\n\ndef multiplicar_matriz_por_vector(matriz, vector):\n    \n    resultado = []\n    for fila in matriz:\n        producto_punto = np.dot(fila, vector)\n        resultado.append(producto_punto)\n    return resultado\n\n# Definir la matriz compleja\nm = [[1 + 1j, 2 - 1j],\n     [3, 4 + 1j]]\n\n# Definir el vector columna complejo\nv = [2 - 1j, 1 + 3j]\n\n# Multiplicar la matriz por el vector\nresultado = multiplicar_matriz_por_vector(m, v)\n\n# Imprimir resultado\nprint(\"El resultado de multiplicar la matriz por el vector es:\")\nfor elemento in resultado:\n    print(elemento)",
      "metadata": {
        "trusted": true
      },
      "outputs": [
        {
          "name": "stdout",
          "text": "El resultado de multiplicar la matriz por el vector es:\n(8+6j)\n(7+10j)\n",
          "output_type": "stream"
        }
      ],
      "execution_count": 30
    }
  ]
}