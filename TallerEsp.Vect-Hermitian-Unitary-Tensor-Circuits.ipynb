{
  "metadata": {
    "kernelspec": {
      "name": "python",
      "display_name": "Python (Pyodide)",
      "language": "python"
    },
    "language_info": {
      "codemirror_mode": {
        "name": "python",
        "version": 3
      },
      "file_extension": ".py",
      "mimetype": "text/x-python",
      "name": "python",
      "nbconvert_exporter": "python",
      "pygments_lexer": "ipython3",
      "version": "3.8"
    }
  },
  "nbformat_minor": 5,
  "nbformat": 4,
  "cells": [
    {
      "id": "c7d4de9a-e7dc-4cf3-bd8d-7da869ceb9ac",
      "cell_type": "markdown",
      "source": "# Hermitian Matrices, Unitary Matrices and Tensor Product",
      "metadata": {}
    },
    {
      "id": "007db568-62bf-4098-a52f-281b41db3012",
      "cell_type": "markdown",
      "source": "\n# Understanding Complex Hermitian and Unitary Matrices\n\nThis tutorial delves into two pivotal concepts in quantum computing and linear algebra: complex Hermitian and Unitary matrices. Both play critical roles in quantum mechanics and quantum computing, underpinning the behavior of quantum systems and the operations performed on them.\n\n## Objectives\n- Define and explore the properties of complex Hermitian matrices.\n- Understand and implement complex Unitary matrices in Python.\n- Highlight their significance and applications in quantum computing.\n\nPrepare to enhance your mathematical toolkit with these foundational concepts, illustrated with Python examples for a hands-on learning experience.\n",
      "metadata": {}
    },
    {
      "id": "172b4789-ccc2-41be-ae1b-fff456a76c41",
      "cell_type": "markdown",
      "source": "\n## Complex Hermitian Matrices\n\nA Hermitian matrix, or self-adjoint matrix, is a square matrix that is equal to its own conjugate transpose. This property makes it a natural representation of observable quantities in quantum mechanics.\n\n### Properties\n- The eigenvalues of a Hermitian matrix are always real.\n- The eigenvectors of a Hermitian matrix corresponding to different eigenvalues are orthogonal.\n- Hermitian matrices are extensively used in quantum mechanics to describe physical observables.\n\n### Python Example: Defining a Hermitian Matrix\n",
      "metadata": {}
    },
    {
      "id": "be7b7f14-c501-4fd9-a482-73f4acf8bfd9",
      "cell_type": "code",
      "source": "\nimport numpy as np\n\n# Define a complex Hermitian matrix\nhermitian_matrix = np.array([[2+0j, 2-1j], [2+1j, 3+0j]])\n\n# Check if the matrix is Hermitian\nis_hermitian = np.allclose(hermitian_matrix, hermitian_matrix.conj().T)\n\nis_hermitian, hermitian_matrix\n",
      "metadata": {
        "trusted": true
      },
      "outputs": [],
      "execution_count": null
    },
    {
      "id": "6c6e41c4-7edb-46e0-b5a3-9dc381541312",
      "cell_type": "markdown",
      "source": "\n## Complex Unitary Matrices\n\nA Unitary matrix is a square matrix whose conjugate transpose is also its inverse. Unitary matrices preserve the inner product, making them essential for describing quantum gates and evolution in quantum computing.\n\n### Properties\n- Preserves the norm of vectors, hence preserving quantum states during transformations.\n- The determinant of a Unitary matrix has an absolute value of 1.\n- Used to represent reversible quantum operations and time evolution in quantum systems.\n\n### Python Example: Defining a Unitary Matrix\n",
      "metadata": {}
    },
    {
      "id": "72119954-9647-4f66-93e9-c014c05bb48c",
      "cell_type": "code",
      "source": "\n# Define a complex Unitary matrix\nunitary_matrix = np.array([[1/np.sqrt(2), 1/np.sqrt(2)], [1/np.sqrt(2)*1j, -1/np.sqrt(2)*1j]])\n\n# Check if the matrix is Unitary\n# np.eye(2) returns the identity of size 2x2\nis_unitary = np.allclose(np.dot(unitary_matrix, unitary_matrix.conj().T), np.eye(2))\n\nis_unitary, unitary_matrix\n",
      "metadata": {
        "trusted": true
      },
      "outputs": [],
      "execution_count": null
    },
    {
      "id": "85750bcf-34ab-49ab-9163-509b29e719c9",
      "cell_type": "markdown",
      "source": "# Tensor product",
      "metadata": {}
    },
    {
      "id": "fb3cdd7b-c492-4bf2-82fa-a7cc50ce7875",
      "cell_type": "code",
      "source": "\n## Tensor Product for Complex Vectors\n\nThe tensor product of two complex vectors creates a new vector in a higher-dimensional space, allowing us to combine quantum states in quantum computing.\n\n### Example\n\n\n\nimport numpy as np\n\n# Define two complex vectors for the tensor product\nv1 = np.array([1+2j, 3+4j])\nv2 = np.array([5+6j, 7+8j])\n\n# Calculate the tensor product\ntensor_product_v = np.kron(v1, v2)\n\ntensor_product_v\n",
      "metadata": {
        "trusted": true
      },
      "outputs": [],
      "execution_count": null
    },
    {
      "id": "37f8d9a9-b85e-4c85-8647-35947f401d5d",
      "cell_type": "code",
      "source": "\nimport numpy as np\n\n# Define two complex vectors for the tensor product\nv1 = np.array([1+2j, 3+4j])\nv2 = np.array([5+6j, 7+8j])\n\n# Calculate the tensor product\ntensor_product_v = np.kron(v1, v2)\n\ntensor_product_v\n",
      "metadata": {
        "trusted": true
      },
      "outputs": [],
      "execution_count": null
    },
    {
      "id": "723cfb36-74fb-45ae-8751-47c430c48adf",
      "cell_type": "code",
      "source": "\nimport numpy as np\n\n# Define two complex vectors for the tensor product\nv1 = np.array([1+2j, 3+4j])\nv2 = np.array([5+6j, 7+8j])\n\n# Calculate the tensor product\ntensor_product_v = np.kron(v1, v2)\n\ntensor_product_v\n",
      "metadata": {
        "trusted": true
      },
      "outputs": [],
      "execution_count": null
    },
    {
      "id": "81ffaa95-f76d-4357-a950-aa367b699985",
      "cell_type": "code",
      "source": "\nimport numpy as np\n\n# Define two complex vectors for the tensor product\nv1 = np.array([1+2j, 3+4j])\nv2 = np.array([5+6j, 7+8j])\n\n# Calculate the tensor product\ntensor_product_v = np.kron(v1, v2)\n\ntensor_product_v\n",
      "metadata": {
        "trusted": true
      },
      "outputs": [
        {
          "execution_count": 14,
          "output_type": "execute_result",
          "data": {
            "text/plain": "array([ -7.+16.j,  -9.+22.j,  -9.+38.j, -11.+52.j])"
          },
          "metadata": {}
        }
      ],
      "execution_count": 14
    },
    {
      "id": "aa89e379-8ce8-493d-8b0e-6461a7fc1325",
      "cell_type": "markdown",
      "source": "\n## Tensor Product for Complex Matrices\n\nThe tensor product for matrices combines individual matrices into a larger matrix, crucial for representing multiple qubit systems in quantum computing.\n\n### Example\n",
      "metadata": {}
    },
    {
      "id": "c558e2f2-8ecf-466a-8fb4-469566157419",
      "cell_type": "code",
      "source": "\n# Define two complex matrices for the tensor product\nM1 = np.array([[1+2j, 3+4j], [5+6j, 7+8j]])\nM2 = np.array([[9+10j, 11+12j], [13+14j, 15+16j]])\n\n# Calculate the tensor product\ntensor_product_m = np.kron(M1, M2)\n\ntensor_product_m\n",
      "metadata": {
        "trusted": true
      },
      "outputs": [],
      "execution_count": null
    },
    {
      "id": "ffa82608-ea8c-4bc7-b357-a8552a649f0c",
      "cell_type": "markdown",
      "source": "# Exercises on Complex Vector and Matrix Operations\n\nThis set of exercises is designed to test your understanding of various concepts related to complex vector and matrix operations, which are foundational in quantum computing. Each exercise presents a concrete case for you to apply what you've learned about Hermitian matrices, Unitary matrices, and tensor products.\n\nNOTE: VERIFY YOUR COMPUTATIONS IN PAPER AND IN THE COMPUTER.\n\n## Exercise 1: Complex Hermitian Matrices\n\nConsider the matrix:\n\n$$ H = \\begin{bmatrix} 3 & 2+i \\\\ 2-i & 1 \\end{bmatrix} $$\n\n- Verify if $ H $ is a Hermitian matrix.\n- If it is, find its eigenvalues.\n\n## Exercise 2: Complex Unitary Matrices\n\nConsider the matrix:\n\n$$ U = \\frac{1}{\\sqrt{2}}\\begin{bmatrix} 1 & i \\\\ i & 1 \\end{bmatrix} $$\n\n- Verify if $ U $ is a Unitary matrix.\n- Compute $ UU^\\dagger $ to confirm its Unitarity, where $ U^\\dagger $ denotes the conjugate transpose of $ U $.\n\n## Exercise 3: Tensor Product for Complex Vectors\n\nGiven the complex vectors:\n\n$$ \\mathbf{v} = \\begin{bmatrix} 1+i \\\\ 2-i \\end{bmatrix}, \\quad \\mathbf{w} = \\begin{bmatrix} 1-2i \\\\ 3 \\end{bmatrix} $$\n\nCalculate the tensor product $ \\mathbf{v} \\otimes \\mathbf{w} $.\n\n## Exercise 4: Tensor Product for Complex Matrices\n\nGiven the matrices:\n\n$$ M_1 = \\begin{bmatrix} 0 & 1 \\\\ 1 & 0 \\end{bmatrix}, \\quad M_2 = \\begin{bmatrix} i & 0 \\\\ 0 & -i \\end{bmatrix} $$\n\nCalculate the tensor product $ M_1 \\otimes M_2 $.\n\n## Exercise 5: Modelling quantum computations with vectors and matrices\n\nUsing matrices and vectors, implement a model of the Mach/Zehnder interferometer.\n\n![Mach-Zehnder interferometer](images/Mach-Zehnder-Interferometer.png)\n\n## Exercise 6: Composing quantum systems \n\nUsing matrices and vectors, implement a model of the following circuit.\n\n![Mach-Zehnder interferometer](images/Deutsch-Algorithm.png)\n\nUse the following MAtrix for $U_f$:\n\n![Mach-Zehnder interferometer](images/ExampleUf.png)\n\n",
      "metadata": {}
    },
    {
      "id": "6ff79bda-725f-4898-9ebb-b7f984671b0f",
      "cell_type": "markdown",
      "source": "# solucion ",
      "metadata": {}
    },
    {
      "id": "f546703d-9fb0-4164-8121-6a679156e68e",
      "cell_type": "markdown",
      "source": "\nConsider the matrix:\n\n$$ U = \\frac{1}{\\sqrt{2}}\\begin{bmatrix} 1 & i \\\\ i & 1 \\end{bmatrix} $$\n\n- Verify if $ U $ is a Unitary matrix.\n- Compute $ UU^\\dagger $ to confirm its Unitarity, where $ U^\\dagger $ denotes the conjugate transpose of $ U $.",
      "metadata": {}
    },
    {
      "id": "92096c86-7f8b-4c82-98e2-fd2de145331e",
      "cell_type": "markdown",
      "source": "# Exercise 1: Complex Hermitian Matrices",
      "metadata": {}
    },
    {
      "id": "532b78d1-8806-472a-8150-63ab787c6e02",
      "cell_type": "markdown",
      "source": "Consider the matrix:\n\n$$ H = \\begin{bmatrix} 3 & 2+i \\\\ 2-i & 1 \\end{bmatrix} $$\n\n- Verify if $ H $ is a Hermitian matrix.\n- If it is, find its eigenvalues.",
      "metadata": {}
    },
    {
      "id": "586c07cc-d739-4566-a916-4b7216c608ef",
      "cell_type": "code",
      "source": "import numpy as np\n\n# Definir la matriz H\nH = np.array([[3, 2 + 1j],\n              [2 - 1j, 1]])\n\n# Verificar si H es Hermitiana\ndef es_hermitiana(matriz):\n    return np.allclose(matriz, matriz.conj().T)\n\nif es_hermitiana(H):\n    print(\"La matriz H es Hermitiana.\")\nelse:\n    print(\"La matriz H no es Hermitiana.\")\n\n# Calcular los autovalores de H\nautovalores = np.linalg.eigvalsh(H)\n\n# Imprimir los autovalores\nprint(\"Los autovalores de H son:\", autovalores)",
      "metadata": {
        "trusted": true
      },
      "outputs": [
        {
          "name": "stdout",
          "text": "La matriz H es Hermitiana.\nLos autovalores de H son: [-0.44948974  4.44948974]\n",
          "output_type": "stream"
        }
      ],
      "execution_count": 16
    },
    {
      "id": "9fb5d744-5c97-4a44-b9df-2ecaae497dc3",
      "cell_type": "markdown",
      "source": "# Exercise 2: Complex Unitary Matrices",
      "metadata": {}
    },
    {
      "id": "faf26977-4878-480f-90b8-bfe4fc3c904e",
      "cell_type": "markdown",
      "source": "Consider the matrix:\n\n$$ U = \\frac{1}{\\sqrt{2}}\\begin{bmatrix} 1 & i \\\\ i & 1 \\end{bmatrix} $$\n\n- Verify if $ U $ is a Unitary matrix.\n- Compute $ UU^\\dagger $ to confirm its Unitarity, where $ U^\\dagger $ denotes the conjugate transpose of $ U $.",
      "metadata": {}
    },
    {
      "id": "d839adbf-905d-4404-91c2-e0132f70dcb1",
      "cell_type": "code",
      "source": "import numpy as np\n\n# Definir la matriz U\nU = (1/np.sqrt(2)) * np.array([[1, 1j],\n                                [1j, 1]])\n\n# Verificar si U es unitaria\ndef es_unitaria(matriz):\n    return np.allclose(np.eye(len(matriz)), np.dot(matriz.conj().T, matriz))\n\nif es_unitaria(U):\n    print(\"La matriz U es unitaria.\")\nelse:\n    print(\"La matriz U no es unitaria.\")\n\n# Calcular U * U^\\dagger\nUU_dagger = np.dot(U, U.conj().T)\n\n# Imprimir el resultado\nprint(\"El resultado de U * U^\\dagger es:\")\nprint(UU_dagger)",
      "metadata": {
        "trusted": true
      },
      "outputs": [
        {
          "name": "stdout",
          "text": "La matriz U es unitaria.\nEl resultado de U * U^\\dagger es:\n[[1.+0.j 0.+0.j]\n [0.+0.j 1.+0.j]]\n",
          "output_type": "stream"
        }
      ],
      "execution_count": 17
    },
    {
      "id": "09d9ac87-c393-4041-beec-fa015ddb99a5",
      "cell_type": "markdown",
      "source": "# Exercise 3: Tensor Product for Complex Vectors",
      "metadata": {}
    },
    {
      "id": "1f622a55-ade4-4784-897d-17cc8d87cbb4",
      "cell_type": "markdown",
      "source": "Given the complex vectors:\n\n$$ \\mathbf{v} = \\begin{bmatrix} 1+i \\\\ 2-i \\end{bmatrix}, \\quad \\mathbf{w} = \\begin{bmatrix} 1-2i \\\\ 3 \\end{bmatrix} $$\n\nCalculate the tensor product $ \\mathbf{v} \\otimes \\mathbf{w} $.",
      "metadata": {}
    },
    {
      "id": "b3272449-63d0-462e-9729-052d20857aed",
      "cell_type": "code",
      "source": "import numpy as np\n\n# Definir los vectores complejos v y w\nv = np.array([[1 + 1j], [2 - 1j]])\nw = np.array([[1 - 2j], [3]])\n\n# Calcular el producto tensorial v ⊗ w\ntensor_product = np.kron(v, w)\n\n# Imprimir el resultado\nprint(\"El producto tensorial v ⊗ w es:\")\nprint(tensor_product)",
      "metadata": {
        "trusted": true
      },
      "outputs": [
        {
          "name": "stdout",
          "text": "El producto tensorial v ⊗ w es:\n[[3.-1.j]\n [3.+3.j]\n [0.-5.j]\n [6.-3.j]]\n",
          "output_type": "stream"
        }
      ],
      "execution_count": 18
    },
    {
      "id": "23a0e1b5-f556-4b5e-87be-e6152ab20919",
      "cell_type": "markdown",
      "source": "# Exercise 4: Tensor Product for Complex Matrices",
      "metadata": {}
    },
    {
      "id": "e878d206-b29d-4fe2-b410-cbc92e2d5f93",
      "cell_type": "markdown",
      "source": "Given the matrices:\n\n$$ M_1 = \\begin{bmatrix} 0 & 1 \\\\ 1 & 0 \\end{bmatrix}, \\quad M_2 = \\begin{bmatrix} i & 0 \\\\ 0 & -i \\end{bmatrix} $$\n\nCalculate the tensor product $ M_1 \\otimes M_2 $.",
      "metadata": {}
    },
    {
      "id": "7a6f5dcc-d469-42d0-a154-98bee0df4de7",
      "cell_type": "code",
      "source": "import numpy as np\n\n# Definir las matrices complejas M1 y M2\nM1 = np.array([[0, 1], [1, 0]])\nM2 = np.array([[1j, 0], [0, -1j]])\n\n# Calcular el producto tensorial M1 ⊗ M2\ntensor_product = np.kron(M1, M2)\n\n# Imprimir el resultado\nprint(\"El producto tensorial M1 ⊗ M2 es:\")\nprint(tensor_product)",
      "metadata": {
        "trusted": true
      },
      "outputs": [
        {
          "name": "stdout",
          "text": "El producto tensorial M1 ⊗ M2 es:\n[[0.+0.j 0.+0.j 0.+1.j 0.+0.j]\n [0.+0.j 0.-0.j 0.+0.j 0.-1.j]\n [0.+1.j 0.+0.j 0.+0.j 0.+0.j]\n [0.+0.j 0.-1.j 0.+0.j 0.-0.j]]\n",
          "output_type": "stream"
        }
      ],
      "execution_count": 20
    }
  ]
}